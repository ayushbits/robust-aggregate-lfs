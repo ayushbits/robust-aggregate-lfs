{
 "cells": [
  {
   "cell_type": "code",
   "execution_count": 98,
   "metadata": {},
   "outputs": [
    {
     "name": "stdout",
     "output_type": "stream",
     "text": [
      "The autoreload extension is already loaded. To reload it, use:\n",
      "  %reload_ext autoreload\n"
     ]
    }
   ],
   "source": [
    "%load_ext autoreload\n",
    "%autoreload 2\n",
    "\n",
    "import numpy as np\n",
    "import matplotlib.pyplot as plt\n",
    "%matplotlib inline\n",
    "\n",
    "import warnings\n",
    "warnings.filterwarnings(\"ignore\")"
   ]
  },
  {
   "cell_type": "markdown",
   "metadata": {},
   "source": [
    "# Load Dataset\n",
    "For this tutorial, we will use a IMDb dataset with plots and associated genres. We define our task as classifying the plots as those of action or romance movies based only on the plot text. \n",
    "\n",
    "The data is in `data/imdb/budgetandactors.txt`, which contains the plot and genre information about movies from the IMDb database. We pre-process the data below to generate the following:\n",
    "* Featurize the plot text using bag-of-words representation\n",
    "* Split the dataset into train, val, and test\n",
    "\n",
    "**TODO: Featurize in loader and load in the words each feature represents**"
   ]
  },
  {
   "cell_type": "code",
   "execution_count": 99,
   "metadata": {},
   "outputs": [
    {
     "name": "stdout",
     "output_type": "stream",
     "text": [
      "/home/ayusham/auto_lfs/reef/data/trec/all.txt\n",
      "len of data 5965\n",
      "4774 [    0     5     6 ... 36844 36855 36856]\n",
      "common_idx 1094\n"
     ]
    }
   ],
   "source": [
    "dataset='trec'\n",
    "from data.trec_loader import DataLoader\n",
    "dl = DataLoader()\n",
    "train_primitive_matrix, val_primitive_matrix, test_primitive_matrix,train_ground, val_ground, test_ground, vizer, val_idx, common_idx, _, _, _ = dl.load_data(dataset=dataset)"
   ]
  },
  {
   "cell_type": "code",
   "execution_count": 100,
   "metadata": {},
   "outputs": [
    {
     "data": {
      "text/plain": [
       "(4918, 1094)"
      ]
     },
     "execution_count": 100,
     "metadata": {},
     "output_type": "execute_result"
    }
   ],
   "source": [
    "train_primitive_matrix.shape"
   ]
  },
  {
   "cell_type": "code",
   "execution_count": 101,
   "metadata": {},
   "outputs": [
    {
     "data": {
      "text/plain": [
       "(500, 547, 4918)"
      ]
     },
     "execution_count": 101,
     "metadata": {},
     "output_type": "execute_result"
    }
   ],
   "source": [
    "# vizer.get_feature_names()[val_idx[common_idx[0]]]\n",
    "\n",
    "x = [vizer.get_feature_names()[val_idx[i]] for i in common_idx ]\n",
    "# x = vizer.get_feature_names()\n",
    "\n",
    "# val_idx[100], common_idx[100]#, common_idx[val_idx[100]]\n",
    "\n",
    "len(val_idx), len(common_idx)\n",
    "\n",
    "len(test_ground), len(val_ground), len(train_ground)"
   ]
  },
  {
   "cell_type": "code",
   "execution_count": 102,
   "metadata": {},
   "outputs": [
    {
     "data": {
      "text/plain": [
       "'currency what'"
      ]
     },
     "execution_count": 102,
     "metadata": {},
     "output_type": "execute_result"
    }
   ],
   "source": [
    "x[673]"
   ]
  },
  {
   "cell_type": "code",
   "execution_count": 34,
   "metadata": {},
   "outputs": [
    {
     "data": {
      "text/plain": [
       "0"
      ]
     },
     "execution_count": 34,
     "metadata": {},
     "output_type": "execute_result"
    }
   ],
   "source": [
    "len(np.where(val_ground==0)[0])"
   ]
  },
  {
   "cell_type": "markdown",
   "metadata": {},
   "source": [
    "# Reef Steps\n",
    "Reef generates heuristics in an iterative manner, with each iteration consisting of the following steps:\n",
    "1. Synthesize Heuristics\n",
    "2. Prune Heuristics\n",
    "3. Verify Heuristics\n",
    "\n",
    "In this tutorial, we go through the three stages of Reef individually and then repeat the process iteratively."
   ]
  },
  {
   "cell_type": "markdown",
   "metadata": {},
   "source": [
    "In the cell below, we run a single iteration by calling the `run_synthesizer` function. We pass in the primitive matrices for the `train` and `val` sets, along with ground truth labels for `val`. While we also pass in ground truth labels for `train`, this is solely for evaluation purposes. \n",
    "\n",
    "`max_cardinality` is the maximum number of primitives a heuristic takes as input, `keep` is how many heuristics the pruner should select (3 for the first iteration, 1 after that) and `model` is the type of heuristic to generate, in this case, `decision_tree`. \n",
    "\n",
    "_This cell does not output anything, only saves values in HeuristicGenerator._"
   ]
  },
  {
   "cell_type": "code",
   "execution_count": 337,
   "metadata": {},
   "outputs": [
    {
     "name": "stdout",
     "output_type": "stream",
     "text": [
      "self.b 0.16666666666666666\n"
     ]
    }
   ],
   "source": [
    "from program_synthesis.heuristic_generator import HeuristicGenerator\n",
    "\n",
    "hg = HeuristicGenerator(train_primitive_matrix, val_primitive_matrix, test_primitive_matrix,\n",
    "    test_ground, val_ground, train_ground, b=0.5)\n",
    "hg.run_synthesizer(max_cardinality=1, idx=None, keep=90, model='dt')"
   ]
  },
  {
   "cell_type": "code",
   "execution_count": 338,
   "metadata": {},
   "outputs": [
    {
     "data": {
      "text/plain": [
       "(1093, 90)"
      ]
     },
     "execution_count": 338,
     "metadata": {},
     "output_type": "execute_result"
    }
   ],
   "source": [
    "hg.L_val.shape"
   ]
  },
  {
   "cell_type": "markdown",
   "metadata": {},
   "source": [
    "## 1. Synthesize Heuristics\n",
    "We start by generating all possible heuristics based on the labeled, validation set that take in a single feature (i.e. word for this example) as input. \n",
    "\n",
    "For this example, we use decision trees with maximum depth 1 (`dt`) as our heuristic form. This translates to checking whether a certain word exists or does not exist in the text to assign a label. We first generate all possible heuristics that take a single feature in as input."
   ]
  },
  {
   "cell_type": "code",
   "execution_count": 339,
   "metadata": {},
   "outputs": [],
   "source": [
    "from program_synthesis.synthesizer import Synthesizer\n",
    "syn = Synthesizer(val_primitive_matrix, val_ground, b=0.5)\n",
    "\n",
    "heuristics, feature_inputs = syn.generate_heuristics('dt', 1)\n",
    "# print (\"Total Heuristics Generated: \", np.shape(heuristics)[1])"
   ]
  },
  {
   "cell_type": "markdown",
   "metadata": {},
   "source": [
    "For each generated heuristic, we find an associated $\\beta$ value.  This corresponds to defining a region of **low confidence** labels, which the heuristic will abstain for, while labeling the rest of the datapoints as $1$ or $-1$."
   ]
  },
  {
   "cell_type": "code",
   "execution_count": 340,
   "metadata": {},
   "outputs": [
    {
     "data": {
      "image/png": "[encoded data removed]",
      "text/plain": [
       "<Figure size 432x288 with 1 Axes>"
      ]
     },
     "metadata": {
      "needs_background": "light"
     },
     "output_type": "display_data"
    }
   ],
   "source": [
    "optimal_betas = syn.find_optimal_beta(heuristics[0], val_primitive_matrix, feature_inputs[0], val_ground)\n",
    "plt.hist(optimal_betas, range=(0,0.5));\n",
    "plt.xlabel('Beta Values');"
   ]
  },
  {
   "cell_type": "markdown",
   "metadata": {},
   "source": [
    "## 2. Prune Heuristics\n",
    "In the first iteration, we simply pick the 3 heuristics that perform the best on the labeled validation set. "
   ]
  },
  {
   "cell_type": "code",
   "execution_count": 344,
   "metadata": {},
   "outputs": [
    {
     "ename": "AttributeError",
     "evalue": "'NoneType' object has no attribute 'L_train'",
     "output_type": "error",
     "traceback": [
      "\u001b[0;31m---------------------------------------------------------------------------\u001b[0m",
      "\u001b[0;31mAttributeError\u001b[0m                            Traceback (most recent call last)",
      "\u001b[0;32m<ipython-input-344-8e546d4c6429>\u001b[0m in \u001b[0;36m<module>\u001b[0;34m\u001b[0m\n\u001b[0;32m----> 1\u001b[0;31m \u001b[0mtop_idx\u001b[0m \u001b[0;34m=\u001b[0m \u001b[0mhg\u001b[0m\u001b[0;34m.\u001b[0m\u001b[0mprune_heuristics\u001b[0m\u001b[0;34m(\u001b[0m\u001b[0mheuristics\u001b[0m\u001b[0;34m,\u001b[0m \u001b[0mfeature_inputs\u001b[0m\u001b[0;34m,\u001b[0m \u001b[0mkeep\u001b[0m\u001b[0;34m=\u001b[0m\u001b[0;36m10\u001b[0m\u001b[0;34m)\u001b[0m\u001b[0;34m\u001b[0m\u001b[0;34m\u001b[0m\u001b[0m\n\u001b[0m\u001b[1;32m      2\u001b[0m \u001b[0mprint\u001b[0m \u001b[0;34m(\u001b[0m\u001b[0;34m'Features chosen heuristics are based on: '\u001b[0m\u001b[0;34m,\u001b[0m \u001b[0mtop_idx\u001b[0m\u001b[0;34m)\u001b[0m\u001b[0;34m\u001b[0m\u001b[0;34m\u001b[0m\u001b[0m\n",
      "\u001b[0;32m~/Semi_Supervised_LFs/reef/program_synthesis/heuristic_generator.py\u001b[0m in \u001b[0;36mprune_heuristics\u001b[0;34m(self, heuristics, feat_combos, keep, mode)\u001b[0m\n\u001b[1;32m    149\u001b[0m             \u001b[0mprint\u001b[0m\u001b[0;34m(\u001b[0m\u001b[0mjaccard_scores\u001b[0m\u001b[0;34m)\u001b[0m\u001b[0;34m\u001b[0m\u001b[0;34m\u001b[0m\u001b[0m\n\u001b[1;32m    150\u001b[0m         \u001b[0;32melse\u001b[0m\u001b[0;34m:\u001b[0m\u001b[0;34m\u001b[0m\u001b[0;34m\u001b[0m\u001b[0m\n\u001b[0;32m--> 151\u001b[0;31m             \u001b[0mtrain_num_labeled\u001b[0m \u001b[0;34m=\u001b[0m \u001b[0mnp\u001b[0m\u001b[0;34m.\u001b[0m\u001b[0msum\u001b[0m\u001b[0;34m(\u001b[0m\u001b[0mnp\u001b[0m\u001b[0;34m.\u001b[0m\u001b[0mabs\u001b[0m\u001b[0;34m(\u001b[0m\u001b[0mself\u001b[0m\u001b[0;34m.\u001b[0m\u001b[0mvf\u001b[0m\u001b[0;34m.\u001b[0m\u001b[0mL_train\u001b[0m\u001b[0;34m.\u001b[0m\u001b[0mT\u001b[0m\u001b[0;34m)\u001b[0m\u001b[0;34m,\u001b[0m \u001b[0maxis\u001b[0m\u001b[0;34m=\u001b[0m\u001b[0;36m0\u001b[0m\u001b[0;34m)\u001b[0m\u001b[0;34m\u001b[0m\u001b[0;34m\u001b[0m\u001b[0m\n\u001b[0m\u001b[1;32m    152\u001b[0m             \u001b[0mjaccard_scores\u001b[0m \u001b[0;34m=\u001b[0m \u001b[0mcalculate_jaccard_distance\u001b[0m\u001b[0;34m(\u001b[0m\u001b[0mtrain_num_labeled\u001b[0m\u001b[0;34m,\u001b[0m\u001b[0mnp\u001b[0m\u001b[0;34m.\u001b[0m\u001b[0mabs\u001b[0m\u001b[0;34m(\u001b[0m\u001b[0mL_train\u001b[0m\u001b[0;34m)\u001b[0m\u001b[0;34m)\u001b[0m\u001b[0;34m\u001b[0m\u001b[0;34m\u001b[0m\u001b[0m\n\u001b[1;32m    153\u001b[0m             \u001b[0mprint\u001b[0m\u001b[0;34m(\u001b[0m\u001b[0mjaccard_scores\u001b[0m\u001b[0;34m)\u001b[0m\u001b[0;34m\u001b[0m\u001b[0;34m\u001b[0m\u001b[0m\n",
      "\u001b[0;31mAttributeError\u001b[0m: 'NoneType' object has no attribute 'L_train'"
     ]
    }
   ],
   "source": [
    "top_idx = hg.prune_heuristics(heuristics, feature_inputs, keep=10)\n",
    "print ('Features chosen heuristics are based on: ', top_idx)"
   ]
  },
  {
   "cell_type": "code",
   "execution_count": 327,
   "metadata": {},
   "outputs": [
    {
     "data": {
      "text/plain": [
       "['who found',\n",
       " 'how would',\n",
       " 'who build',\n",
       " 'what is',\n",
       " 'made by',\n",
       " 'made using',\n",
       " 'when was',\n",
       " 'who owns',\n",
       " 'how should',\n",
       " 'why can']"
      ]
     },
     "execution_count": 327,
     "metadata": {},
     "output_type": "execute_result"
    }
   ],
   "source": [
    "[x[i] for i in top_idx]"
   ]
  },
  {
   "cell_type": "code",
   "execution_count": 330,
   "metadata": {},
   "outputs": [
    {
     "data": {
      "text/plain": [
       "0.09108200510425193"
      ]
     },
     "execution_count": 330,
     "metadata": {},
     "output_type": "execute_result"
    }
   ],
   "source": [
    "f1_score(hg.val_ground, hg.L_val[:,1], average='weighted')"
   ]
  },
  {
   "cell_type": "code",
   "execution_count": 324,
   "metadata": {},
   "outputs": [
    {
     "data": {
      "text/plain": [
       "[0.15326388497114224,\n",
       " 0.09108200510425193,\n",
       " 0.08296232778388146,\n",
       " 0.0777676120768527,\n",
       " 0.050376369479556475,\n",
       " 0.03695156422826398,\n",
       " 0.03674513865345229,\n",
       " 0.034245244111135865,\n",
       " 0.03202916195402382,\n",
       " 0.026969654631578473,\n",
       " 0.023833258228527988,\n",
       " 0.02108458787324295,\n",
       " 0.020718354336983148,\n",
       " 0.019238895196522596,\n",
       " 0.017548332908373702,\n",
       " 0.017489904724111452,\n",
       " 0.017447179727228236,\n",
       " 0.017108874656907594,\n",
       " 0.015887196598676066,\n",
       " 0.01571223182777228,\n",
       " 0.015649563015270457,\n",
       " 0.015632474305803893,\n",
       " 0.014154688362456806,\n",
       " 0.014154688362456806,\n",
       " 0.014038051000539564,\n",
       " 0.010717553261011632,\n",
       " 0.01070448307410796,\n",
       " 0.010134421845309311,\n",
       " 0.008890680809051954,\n",
       " 0.00877378187533723,\n",
       " 0.007202195791399817,\n",
       " 0.0071983244236425645,\n",
       " 0.007196291142257453,\n",
       " 0.00716602079870475,\n",
       " 0.00716602079870475,\n",
       " 0.007106710754594496,\n",
       " 0.005423340204367332,\n",
       " 0.005402802523233977,\n",
       " 0.005402802523233977,\n",
       " 0.005402802523233977,\n",
       " 0.005402802523233977,\n",
       " 0.005401646843549863,\n",
       " 0.0053953731538361,\n",
       " 0.005380126338197074,\n",
       " 0.005376526267041669,\n",
       " 0.005318821136862465,\n",
       " 0.004622718736456879,\n",
       " 0.0036301390077620056,\n",
       " 0.0036301390077620056,\n",
       " 0.003620925853313776,\n",
       " 0.003615560136244888,\n",
       " 0.003615560136244888,\n",
       " 0.003615560136244888,\n",
       " 0.0036010978956999085,\n",
       " 0.0018224179634108847,\n",
       " 0.0018224179634108847,\n",
       " 0.0018224179634108847,\n",
       " 0.0018224179634108847,\n",
       " 0.0018224179634108847,\n",
       " 0.0018224179634108847,\n",
       " 0.0018224179634108847,\n",
       " 0.0018224179634108847,\n",
       " 0.0018224179634108847,\n",
       " 0.0018221699900852514,\n",
       " 0.0018221699900852514,\n",
       " 0.0018221699900852514,\n",
       " 0.0018221699900852514,\n",
       " 0.0018200930486071908,\n",
       " 0.0018192491366499372,\n",
       " 0.0018192491366499372,\n",
       " 0.0018192491366499372,\n",
       " 0.001810462926656888,\n",
       " 0.001810462926656888,\n",
       " 0.001810462926656888,\n",
       " 0.0018087936818416044,\n",
       " 0.0,\n",
       " 0.0,\n",
       " 0.0,\n",
       " 0.0,\n",
       " 0.0,\n",
       " 0.0,\n",
       " 0.0,\n",
       " 0.0,\n",
       " 0.0,\n",
       " 0.0,\n",
       " 0.0,\n",
       " 0.0,\n",
       " 0.0,\n",
       " 0.0,\n",
       " 0.0]"
      ]
     },
     "execution_count": 324,
     "metadata": {},
     "output_type": "execute_result"
    }
   ],
   "source": [
    "from sklearn.metrics import f1_score\n",
    "[f1_score(hg.val_ground, hg.L_val[:,i], average='weighted') for i in range(np.shape(hg.L_val)[1])]"
   ]
  },
  {
   "cell_type": "code",
   "execution_count": 284,
   "metadata": {},
   "outputs": [
    {
     "data": {
      "text/html": [
       "<div>\n",
       "<style scoped>\n",
       "    .dataframe tbody tr th:only-of-type {\n",
       "        vertical-align: middle;\n",
       "    }\n",
       "\n",
       "    .dataframe tbody tr th {\n",
       "        vertical-align: top;\n",
       "    }\n",
       "\n",
       "    .dataframe thead th {\n",
       "        text-align: right;\n",
       "    }\n",
       "</style>\n",
       "<table border=\"1\" class=\"dataframe\">\n",
       "  <thead>\n",
       "    <tr style=\"text-align: right;\">\n",
       "      <th></th>\n",
       "      <th>Feat 1</th>\n",
       "      <th>Feat 2</th>\n",
       "      <th>Feat 3</th>\n",
       "      <th>Val Acc</th>\n",
       "      <th>Train Acc</th>\n",
       "      <th>Val Cov</th>\n",
       "      <th>Train Cov</th>\n",
       "    </tr>\n",
       "  </thead>\n",
       "  <tbody>\n",
       "    <tr>\n",
       "      <th>0</th>\n",
       "      <td>56.0</td>\n",
       "      <td>-1.0</td>\n",
       "      <td>-1.0</td>\n",
       "      <td>0.000000</td>\n",
       "      <td>0.000229</td>\n",
       "      <td>1.00000</td>\n",
       "      <td>1.00000</td>\n",
       "    </tr>\n",
       "    <tr>\n",
       "      <th>1</th>\n",
       "      <td>5.0</td>\n",
       "      <td>-1.0</td>\n",
       "      <td>-1.0</td>\n",
       "      <td>0.018298</td>\n",
       "      <td>0.019671</td>\n",
       "      <td>1.00000</td>\n",
       "      <td>1.00000</td>\n",
       "    </tr>\n",
       "    <tr>\n",
       "      <th>2</th>\n",
       "      <td>60.0</td>\n",
       "      <td>-1.0</td>\n",
       "      <td>-1.0</td>\n",
       "      <td>0.057640</td>\n",
       "      <td>0.047575</td>\n",
       "      <td>1.00000</td>\n",
       "      <td>1.00000</td>\n",
       "    </tr>\n",
       "    <tr>\n",
       "      <th>3</th>\n",
       "      <td>9.0</td>\n",
       "      <td>-1.0</td>\n",
       "      <td>-1.0</td>\n",
       "      <td>0.000000</td>\n",
       "      <td>0.000000</td>\n",
       "      <td>0.94968</td>\n",
       "      <td>0.94236</td>\n",
       "    </tr>\n",
       "    <tr>\n",
       "      <th>4</th>\n",
       "      <td>45.0</td>\n",
       "      <td>-1.0</td>\n",
       "      <td>-1.0</td>\n",
       "      <td>0.000000</td>\n",
       "      <td>0.000000</td>\n",
       "      <td>1.00000</td>\n",
       "      <td>1.00000</td>\n",
       "    </tr>\n",
       "    <tr>\n",
       "      <th>...</th>\n",
       "      <td>...</td>\n",
       "      <td>...</td>\n",
       "      <td>...</td>\n",
       "      <td>...</td>\n",
       "      <td>...</td>\n",
       "      <td>...</td>\n",
       "      <td>...</td>\n",
       "    </tr>\n",
       "    <tr>\n",
       "      <th>85</th>\n",
       "      <td>84.0</td>\n",
       "      <td>-1.0</td>\n",
       "      <td>-1.0</td>\n",
       "      <td>0.000000</td>\n",
       "      <td>0.000000</td>\n",
       "      <td>1.00000</td>\n",
       "      <td>1.00000</td>\n",
       "    </tr>\n",
       "    <tr>\n",
       "      <th>86</th>\n",
       "      <td>19.0</td>\n",
       "      <td>-1.0</td>\n",
       "      <td>-1.0</td>\n",
       "      <td>0.000000</td>\n",
       "      <td>0.000000</td>\n",
       "      <td>1.00000</td>\n",
       "      <td>1.00000</td>\n",
       "    </tr>\n",
       "    <tr>\n",
       "      <th>87</th>\n",
       "      <td>11.0</td>\n",
       "      <td>-1.0</td>\n",
       "      <td>-1.0</td>\n",
       "      <td>0.000000</td>\n",
       "      <td>0.000000</td>\n",
       "      <td>1.00000</td>\n",
       "      <td>1.00000</td>\n",
       "    </tr>\n",
       "    <tr>\n",
       "      <th>88</th>\n",
       "      <td>12.0</td>\n",
       "      <td>-1.0</td>\n",
       "      <td>-1.0</td>\n",
       "      <td>0.000000</td>\n",
       "      <td>0.000000</td>\n",
       "      <td>1.00000</td>\n",
       "      <td>1.00000</td>\n",
       "    </tr>\n",
       "    <tr>\n",
       "      <th>89</th>\n",
       "      <td>83.0</td>\n",
       "      <td>-1.0</td>\n",
       "      <td>-1.0</td>\n",
       "      <td>0.000000</td>\n",
       "      <td>0.000000</td>\n",
       "      <td>1.00000</td>\n",
       "      <td>1.00000</td>\n",
       "    </tr>\n",
       "  </tbody>\n",
       "</table>\n",
       "<p>90 rows × 7 columns</p>\n",
       "</div>"
      ],
      "text/plain": [
       "    Feat 1  Feat 2  Feat 3   Val Acc  Train Acc  Val Cov  Train Cov\n",
       "0     56.0    -1.0    -1.0  0.000000   0.000229  1.00000    1.00000\n",
       "1      5.0    -1.0    -1.0  0.018298   0.019671  1.00000    1.00000\n",
       "2     60.0    -1.0    -1.0  0.057640   0.047575  1.00000    1.00000\n",
       "3      9.0    -1.0    -1.0  0.000000   0.000000  0.94968    0.94236\n",
       "4     45.0    -1.0    -1.0  0.000000   0.000000  1.00000    1.00000\n",
       "..     ...     ...     ...       ...        ...      ...        ...\n",
       "85    84.0    -1.0    -1.0  0.000000   0.000000  1.00000    1.00000\n",
       "86    19.0    -1.0    -1.0  0.000000   0.000000  1.00000    1.00000\n",
       "87    11.0    -1.0    -1.0  0.000000   0.000000  1.00000    1.00000\n",
       "88    12.0    -1.0    -1.0  0.000000   0.000000  1.00000    1.00000\n",
       "89    83.0    -1.0    -1.0  0.000000   0.000000  1.00000    1.00000\n",
       "\n",
       "[90 rows x 7 columns]"
      ]
     },
     "execution_count": 284,
     "metadata": {},
     "output_type": "execute_result"
    }
   ],
   "source": [
    "hg.heuristic_stats()"
   ]
  },
  {
   "cell_type": "code",
   "execution_count": 244,
   "metadata": {},
   "outputs": [],
   "source": [
    "feats = set(hg.heuristic_stats().sort_values('Val Cov', ascending=False)['Feat 1'])\n",
    "feats2 = set(hg.heuristic_stats().sort_values('Val Cov', ascending=False)['Feat 2'])"
   ]
  },
  {
   "cell_type": "code",
   "execution_count": 245,
   "metadata": {},
   "outputs": [
    {
     "data": {
      "text/plain": [
       "[Text(167.4, 163.07999999999998, 'X[56] <= 0.5\\nentropy = 0.791\\nsamples = 500\\nvalue = [76, 63, 124, 115, 118, 4]'),\n",
       " Text(83.7, 54.360000000000014, 'entropy = 0.788\\nsamples = 435\\nvalue = [75, 63, 62, 114, 117, 4]'),\n",
       " Text(251.10000000000002, 54.360000000000014, 'entropy = 0.089\\nsamples = 65\\nvalue = [1, 0, 62, 1, 1, 0]')]"
      ]
     },
     "execution_count": 245,
     "metadata": {},
     "output_type": "execute_result"
    },
    {
     "data": {
      "image/png": "[encoded data removed]",
      "text/plain": [
       "<Figure size 432x288 with 1 Axes>"
      ]
     },
     "metadata": {
      "needs_background": "light"
     },
     "output_type": "display_data"
    }
   ],
   "source": [
    "from sklearn import tree\n",
    "clf = hg.hf[2].fit(test_primitive_matrix, test_ground)\n",
    "tree.plot_tree(clf)"
   ]
  },
  {
   "cell_type": "code",
   "execution_count": 267,
   "metadata": {},
   "outputs": [
    {
     "name": "stdout",
     "output_type": "stream",
     "text": [
      "who found\n",
      "how would\n",
      "who build\n",
      "what is\n",
      "made by\n",
      "made using\n",
      "when was\n",
      "who owns\n",
      "how should\n",
      "why can\n"
     ]
    }
   ],
   "source": [
    "for i in (hg.heuristic_stats()['Feat 1']):#, hg.heuristic_stats()['Feat 2']):#, hg.heuristic_stats()['Feat 3']):\n",
    "    print(x[int(i)])#, x[int(j)])#, x[int(k)])"
   ]
  },
  {
   "cell_type": "markdown",
   "metadata": {},
   "source": [
    "In subsequent iterations (step 4), we weight the Jaccard score (overlap of how many datapoints in the train set receive labels and how many are labeled by existing heuristics) and F1 score equally. We demonstrate this with a toy vector of previously labeled data."
   ]
  },
  {
   "cell_type": "markdown",
   "metadata": {},
   "source": [
    "## 3. Verify Heuristics\n",
    "In this step, we use the labels the heuristics assign to the **unlabeled train set** to estimate heuristic accuracies and assign probabilistic training labels to the same set accordingly (see [snorkel.stanford.edu](http://snorkel.stanford.edu) for more details). "
   ]
  },
  {
   "cell_type": "code",
   "execution_count": 155,
   "metadata": {},
   "outputs": [],
   "source": [
    "from program_synthesis.verifier import Verifier\n",
    "verifier = Verifier(hg.L_train, hg.L_val, val_ground, has_snorkel=False)\n",
    "\n",
    "verifier.train_gen_model()\n",
    "verifier.assign_marginals()"
   ]
  },
  {
   "cell_type": "markdown",
   "metadata": {},
   "source": [
    "We visualize what these labels look like. Note that with a single iteration, none of the datapoints receive a probabilistic label greater than 0.5, but this is fixed after running the process iteratively (Step 4). __These labels are then used to train an end model, such as an LSTM, and not used as final predictions.__ "
   ]
  },
  {
   "cell_type": "code",
   "execution_count": 156,
   "metadata": {},
   "outputs": [
    {
     "data": {
      "image/png": "[encoded data removed]",
      "text/plain": [
       "<Figure size 432x288 with 1 Axes>"
      ]
     },
     "metadata": {
      "needs_background": "light"
     },
     "output_type": "display_data"
    }
   ],
   "source": [
    "plt.hist(verifier.train_marginals); plt.title('Training Set Probabilistic Labels');"
   ]
  },
  {
   "cell_type": "markdown",
   "metadata": {},
   "source": [
    "Since we do not have access to ground truth labels for the train set, we use the distribution of labels for the labeled validation set to decide what feedback to pass to the synthesizer. We pass datapoints with low confidence (labels near 0.5, i.e. equal probability of being +1 or -1) to the synthesizer"
   ]
  },
  {
   "cell_type": "code",
   "execution_count": 157,
   "metadata": {},
   "outputs": [
    {
     "name": "stdout",
     "output_type": "stream",
     "text": [
      "Percentage of Low Confidence Points:  0.8133577310155535\n"
     ]
    },
    {
     "data": {
      "image/png": "[encoded data removed]",
      "text/plain": [
       "<Figure size 432x288 with 1 Axes>"
      ]
     },
     "metadata": {
      "needs_background": "light"
     },
     "output_type": "display_data"
    }
   ],
   "source": [
    "plt.hist(verifier.val_marginals); plt.title('Validation Set Probabilistic Labels');\n",
    "feedback_idx = verifier.find_vague_points(gamma=0.1,b=0.5)\n",
    "print ('Percentage of Low Confidence Points: ', np.shape(feedback_idx)[0]/float(np.shape(val_ground)[0]))"
   ]
  },
  {
   "cell_type": "markdown",
   "metadata": {},
   "source": [
    "## 4. Repeat Iterative Process of Generating Heuristics\n",
    "We repeat this process of synthesizing, pruning, and verifying heuristics iteratively. In this example, we generate 25 total heuristics. \n",
    "\n",
    "_Note that this process wil take a few minutes to run since heuristic generation is not currently optimized in any manner_"
   ]
  },
  {
   "cell_type": "code",
   "execution_count": 103,
   "metadata": {
    "scrolled": true
   },
   "outputs": [
    {
     "name": "stdout",
     "output_type": "stream",
     "text": [
      "j 0\n",
      "self.b 0.16666666666666666\n",
      "68\n",
      "482\n",
      "343\n",
      "352\n",
      "Running iteration:  5\n",
      "329\n",
      "329\n",
      "329\n",
      "329\n",
      "329\n",
      "Running iteration:  10\n",
      "329\n",
      "329\n",
      "329\n",
      "labels saved\n",
      "329\n",
      "329\n",
      "Running iteration:  15\n",
      "329\n",
      "329\n",
      "329\n",
      "329\n",
      "Program Synthesis Train Accuracy:  0.21634810898739326\n",
      "Program Synthesis Train Coverage:  1.0\n",
      "Program Synthesis Validation Accuracy:  0.1882998171846435\n"
     ]
    }
   ],
   "source": [
    "from program_synthesis.synthesizer import Synthesizer\n",
    "from program_synthesis.heuristic_generator import HeuristicGenerator\n",
    "training_marginals = []\n",
    "vals=[]\n",
    "validation_accuracy = []\n",
    "training_accuracy = []\n",
    "validation_coverage = []\n",
    "training_coverage = []\n",
    "for j in range(0,1):\n",
    "    print('j',j)\n",
    "    validation_accuracy = []\n",
    "    training_accuracy = []\n",
    "    validation_coverage = []\n",
    "    training_coverage = []\n",
    "\n",
    "    idx = None\n",
    "\n",
    "    if j == 0:\n",
    "        # print('value of j',j)\n",
    "        hg = HeuristicGenerator(train_primitive_matrix, val_primitive_matrix, test_primitive_matrix,\n",
    "                        test_ground, val_ground, train_ground, \n",
    "                        b=0.5)\n",
    "\n",
    "\n",
    "    for i in range(3,21):\n",
    "        if (i-2)%5 == 0:\n",
    "            print (\"Running iteration: \", str(i-2))\n",
    "\n",
    "        #Repeat synthesize-prune-verify at each iterations\n",
    "        if i == 3:\n",
    "            hg.run_synthesizer(max_cardinality= 1, idx=idx, keep= 3, model='dt')\n",
    "        else:\n",
    "            hg.run_synthesizer(max_cardinality= 1, idx=idx, keep= 1, model='dt')\n",
    "        hg.run_verifier()\n",
    "\n",
    "        #Save evaluation metrics\n",
    "        val_lfs, train_lfs = [], []\n",
    "        va,ta, vc, tc, val_lfs, train_lfs, test_lfs = hg.evaluate()\n",
    "        validation_accuracy.append(va)\n",
    "        training_accuracy.append(ta)\n",
    "        training_marginals.append(hg.vf.train_marginals)\n",
    "        validation_coverage.append(vc)\n",
    "        training_coverage.append(tc)\n",
    "#         print('shape is ', val_lfs.shape, train_lfs.shape)\n",
    "\n",
    "        if i==15 and j==0:\n",
    "    #         print('inside me ', labs[0])\n",
    "#             np.save(os.path.join(save_path ,val_file_name), val_lfs)\n",
    "#             np.save(os.path.join(save_path ,train_file_name), train_lfs)\n",
    "#             np.save(os.path.join(save_path ,test_file_name), test_lfs)\n",
    "            print('labels saved') \n",
    "     \n",
    "\n",
    "        #Find low confidence datapoints in the labeled set\n",
    "        hg.find_feedback()\n",
    "        idx = hg.feedback_idx\n",
    "#         if i %3 ==0:\n",
    "        print(len(idx))\n",
    "\n",
    "        #Stop the iterative process when no low confidence labels\n",
    "\n",
    "        # if mode == 'normal' or mode == 'random':\n",
    "        if idx == [] and j==0:\n",
    "#             np.save(os.path.join(save_path ,val_file_name), val_lfs)\n",
    "#             np.save(os.path.join(save_path ,train_file_name), train_lfs)\n",
    "#             np.save(os.path.join(save_path ,test_file_name), test_lfs)\n",
    "            print('index exhausted, labels saved')\n",
    "            break\n",
    "    vals.append(validation_accuracy[-1])\n",
    "    print (\"Program Synthesis Train Accuracy: \", training_accuracy[-1])\n",
    "    print (\"Program Synthesis Train Coverage: \", training_coverage[-1])\n",
    "    print (\"Program Synthesis Validation Accuracy: \", validation_accuracy[-1])"
   ]
  },
  {
   "cell_type": "markdown",
   "metadata": {},
   "source": [
    "In the plots above, we show the distribution of probabilistic labels Reef assigns to the training set in the first few iterations.\n",
    "\n",
    "Next, we look at the accuracy and coverage of labels assigned to the training set in the _last_ iteration. The coverage is the percentage of training set datapoints that receive at least one label from the generated heuristics."
   ]
  },
  {
   "cell_type": "code",
   "execution_count": 104,
   "metadata": {},
   "outputs": [],
   "source": [
    "valx = val_lfs\n",
    "\n",
    "yoyo = list(range(1,6))\n",
    "yoyo.append(-1)\n",
    "labels_lfs = []\n",
    "idxs = []\n",
    "for i in range(valx.shape[1]):\n",
    "    for j in yoyo:\n",
    "        if len(np.where(valx.T[i]==j)[0]) > 1:\n",
    "            labels_lfs.append(j)\n",
    "            idxs.append(i)\n",
    "            break;"
   ]
  },
  {
   "cell_type": "code",
   "execution_count": 105,
   "metadata": {},
   "outputs": [
    {
     "data": {
      "text/plain": [
       "[2, 3, -1, -1, 1, 3, 1, -1, -1, -1, -1, -1, -1, -1, -1, -1, -1, -1, -1, -1]"
      ]
     },
     "execution_count": 105,
     "metadata": {},
     "output_type": "execute_result"
    }
   ],
   "source": [
    "labels_lfs"
   ]
  },
  {
   "cell_type": "code",
   "execution_count": 95,
   "metadata": {},
   "outputs": [
    {
     "data": {
      "text/plain": [
       "[0, 1, 2, 3, 4, 5, 6, 7, 8, 9, 10, 11, 12, 13, 14, 15, 16, 17, 18, 19]"
      ]
     },
     "execution_count": 95,
     "metadata": {},
     "output_type": "execute_result"
    }
   ],
   "source": [
    "idxs"
   ]
  },
  {
   "cell_type": "code",
   "execution_count": 119,
   "metadata": {},
   "outputs": [
    {
     "data": {
      "text/plain": [
       "329"
      ]
     },
     "execution_count": 119,
     "metadata": {},
     "output_type": "execute_result"
    }
   ],
   "source": [
    "len(idx)"
   ]
  },
  {
   "cell_type": "code",
   "execution_count": 117,
   "metadata": {},
   "outputs": [
    {
     "name": "stdout",
     "output_type": "stream",
     "text": [
      "who\n",
      "what is\n",
      "how\n",
      "how long\n",
      "where\n",
      "why\n",
      "where\n",
      "how many\n",
      "how many\n",
      "how many\n",
      "how many\n",
      "how many\n",
      "how many\n",
      "how many\n",
      "how many\n",
      "how many\n",
      "how many\n",
      "how many\n",
      "how many\n",
      "how many\n"
     ]
    }
   ],
   "source": [
    "for i in hg.heuristic_stats().iloc[:len(idx)]['Feat 1']:\n",
    "    print(x[int(i)])"
   ]
  },
  {
   "cell_type": "code",
   "execution_count": 114,
   "metadata": {},
   "outputs": [
    {
     "data": {
      "text/plain": [
       "{244.0, 292.0, 315.0, 347.0, 1022.0, 1032.0, 1033.0}"
      ]
     },
     "execution_count": 114,
     "metadata": {},
     "output_type": "execute_result"
    }
   ],
   "source": [
    "feats = set(hg.heuristic_stats().sort_values('Val Cov', ascending=False)['Feat 1'])\n",
    "feats"
   ]
  },
  {
   "cell_type": "code",
   "execution_count": 120,
   "metadata": {
    "scrolled": false
   },
   "outputs": [
    {
     "data": {
      "text/html": [
       "<div>\n",
       "<style scoped>\n",
       "    .dataframe tbody tr th:only-of-type {\n",
       "        vertical-align: middle;\n",
       "    }\n",
       "\n",
       "    .dataframe tbody tr th {\n",
       "        vertical-align: top;\n",
       "    }\n",
       "\n",
       "    .dataframe thead th {\n",
       "        text-align: right;\n",
       "    }\n",
       "</style>\n",
       "<table border=\"1\" class=\"dataframe\">\n",
       "  <thead>\n",
       "    <tr style=\"text-align: right;\">\n",
       "      <th></th>\n",
       "      <th>Feat 1</th>\n",
       "      <th>Feat 2</th>\n",
       "      <th>Feat 3</th>\n",
       "      <th>Val Acc</th>\n",
       "      <th>Train Acc</th>\n",
       "      <th>Val Cov</th>\n",
       "      <th>Train Cov</th>\n",
       "    </tr>\n",
       "  </thead>\n",
       "  <tbody>\n",
       "    <tr>\n",
       "      <th>3</th>\n",
       "      <td>1032.0</td>\n",
       "      <td>-1.0</td>\n",
       "      <td>-1.0</td>\n",
       "      <td>0.153565</td>\n",
       "      <td>0.171614</td>\n",
       "      <td>1.000000</td>\n",
       "      <td>1.000000</td>\n",
       "    </tr>\n",
       "    <tr>\n",
       "      <th>1</th>\n",
       "      <td>244.0</td>\n",
       "      <td>-1.0</td>\n",
       "      <td>-1.0</td>\n",
       "      <td>0.146252</td>\n",
       "      <td>0.166938</td>\n",
       "      <td>0.210238</td>\n",
       "      <td>0.196421</td>\n",
       "    </tr>\n",
       "    <tr>\n",
       "      <th>2</th>\n",
       "      <td>1022.0</td>\n",
       "      <td>-1.0</td>\n",
       "      <td>-1.0</td>\n",
       "      <td>0.153565</td>\n",
       "      <td>0.171614</td>\n",
       "      <td>0.124314</td>\n",
       "      <td>0.140911</td>\n",
       "    </tr>\n",
       "    <tr>\n",
       "      <th>0</th>\n",
       "      <td>315.0</td>\n",
       "      <td>-1.0</td>\n",
       "      <td>-1.0</td>\n",
       "      <td>0.153565</td>\n",
       "      <td>0.171614</td>\n",
       "      <td>0.118830</td>\n",
       "      <td>0.104717</td>\n",
       "    </tr>\n",
       "    <tr>\n",
       "      <th>4</th>\n",
       "      <td>292.0</td>\n",
       "      <td>-1.0</td>\n",
       "      <td>-1.0</td>\n",
       "      <td>0.195612</td>\n",
       "      <td>0.220821</td>\n",
       "      <td>0.043876</td>\n",
       "      <td>0.055510</td>\n",
       "    </tr>\n",
       "    <tr>\n",
       "      <th>6</th>\n",
       "      <td>292.0</td>\n",
       "      <td>-1.0</td>\n",
       "      <td>-1.0</td>\n",
       "      <td>0.195612</td>\n",
       "      <td>0.220821</td>\n",
       "      <td>0.043876</td>\n",
       "      <td>0.055510</td>\n",
       "    </tr>\n",
       "    <tr>\n",
       "      <th>13</th>\n",
       "      <td>1033.0</td>\n",
       "      <td>-1.0</td>\n",
       "      <td>-1.0</td>\n",
       "      <td>0.153565</td>\n",
       "      <td>0.171614</td>\n",
       "      <td>0.042048</td>\n",
       "      <td>0.057747</td>\n",
       "    </tr>\n",
       "    <tr>\n",
       "      <th>18</th>\n",
       "      <td>1033.0</td>\n",
       "      <td>-1.0</td>\n",
       "      <td>-1.0</td>\n",
       "      <td>0.153565</td>\n",
       "      <td>0.171614</td>\n",
       "      <td>0.042048</td>\n",
       "      <td>0.057747</td>\n",
       "    </tr>\n",
       "    <tr>\n",
       "      <th>17</th>\n",
       "      <td>1033.0</td>\n",
       "      <td>-1.0</td>\n",
       "      <td>-1.0</td>\n",
       "      <td>0.153565</td>\n",
       "      <td>0.171614</td>\n",
       "      <td>0.042048</td>\n",
       "      <td>0.057747</td>\n",
       "    </tr>\n",
       "    <tr>\n",
       "      <th>16</th>\n",
       "      <td>1033.0</td>\n",
       "      <td>-1.0</td>\n",
       "      <td>-1.0</td>\n",
       "      <td>0.153565</td>\n",
       "      <td>0.171614</td>\n",
       "      <td>0.042048</td>\n",
       "      <td>0.057747</td>\n",
       "    </tr>\n",
       "    <tr>\n",
       "      <th>15</th>\n",
       "      <td>1033.0</td>\n",
       "      <td>-1.0</td>\n",
       "      <td>-1.0</td>\n",
       "      <td>0.153565</td>\n",
       "      <td>0.171614</td>\n",
       "      <td>0.042048</td>\n",
       "      <td>0.057747</td>\n",
       "    </tr>\n",
       "    <tr>\n",
       "      <th>14</th>\n",
       "      <td>1033.0</td>\n",
       "      <td>-1.0</td>\n",
       "      <td>-1.0</td>\n",
       "      <td>0.153565</td>\n",
       "      <td>0.171614</td>\n",
       "      <td>0.042048</td>\n",
       "      <td>0.057747</td>\n",
       "    </tr>\n",
       "    <tr>\n",
       "      <th>10</th>\n",
       "      <td>1033.0</td>\n",
       "      <td>-1.0</td>\n",
       "      <td>-1.0</td>\n",
       "      <td>0.153565</td>\n",
       "      <td>0.171614</td>\n",
       "      <td>0.042048</td>\n",
       "      <td>0.057747</td>\n",
       "    </tr>\n",
       "    <tr>\n",
       "      <th>12</th>\n",
       "      <td>1033.0</td>\n",
       "      <td>-1.0</td>\n",
       "      <td>-1.0</td>\n",
       "      <td>0.153565</td>\n",
       "      <td>0.171614</td>\n",
       "      <td>0.042048</td>\n",
       "      <td>0.057747</td>\n",
       "    </tr>\n",
       "    <tr>\n",
       "      <th>11</th>\n",
       "      <td>1033.0</td>\n",
       "      <td>-1.0</td>\n",
       "      <td>-1.0</td>\n",
       "      <td>0.153565</td>\n",
       "      <td>0.171614</td>\n",
       "      <td>0.042048</td>\n",
       "      <td>0.057747</td>\n",
       "    </tr>\n",
       "    <tr>\n",
       "      <th>9</th>\n",
       "      <td>1033.0</td>\n",
       "      <td>-1.0</td>\n",
       "      <td>-1.0</td>\n",
       "      <td>0.153565</td>\n",
       "      <td>0.171614</td>\n",
       "      <td>0.042048</td>\n",
       "      <td>0.057747</td>\n",
       "    </tr>\n",
       "    <tr>\n",
       "      <th>8</th>\n",
       "      <td>1033.0</td>\n",
       "      <td>-1.0</td>\n",
       "      <td>-1.0</td>\n",
       "      <td>0.153565</td>\n",
       "      <td>0.171614</td>\n",
       "      <td>0.042048</td>\n",
       "      <td>0.057747</td>\n",
       "    </tr>\n",
       "    <tr>\n",
       "      <th>7</th>\n",
       "      <td>1033.0</td>\n",
       "      <td>-1.0</td>\n",
       "      <td>-1.0</td>\n",
       "      <td>0.153565</td>\n",
       "      <td>0.171614</td>\n",
       "      <td>0.042048</td>\n",
       "      <td>0.057747</td>\n",
       "    </tr>\n",
       "    <tr>\n",
       "      <th>19</th>\n",
       "      <td>1033.0</td>\n",
       "      <td>-1.0</td>\n",
       "      <td>-1.0</td>\n",
       "      <td>0.153565</td>\n",
       "      <td>0.171614</td>\n",
       "      <td>0.042048</td>\n",
       "      <td>0.057747</td>\n",
       "    </tr>\n",
       "    <tr>\n",
       "      <th>5</th>\n",
       "      <td>347.0</td>\n",
       "      <td>-1.0</td>\n",
       "      <td>-1.0</td>\n",
       "      <td>0.153565</td>\n",
       "      <td>0.171614</td>\n",
       "      <td>0.027422</td>\n",
       "      <td>0.018300</td>\n",
       "    </tr>\n",
       "  </tbody>\n",
       "</table>\n",
       "</div>"
      ],
      "text/plain": [
       "    Feat 1  Feat 2  Feat 3   Val Acc  Train Acc   Val Cov  Train Cov\n",
       "3   1032.0    -1.0    -1.0  0.153565   0.171614  1.000000   1.000000\n",
       "1    244.0    -1.0    -1.0  0.146252   0.166938  0.210238   0.196421\n",
       "2   1022.0    -1.0    -1.0  0.153565   0.171614  0.124314   0.140911\n",
       "0    315.0    -1.0    -1.0  0.153565   0.171614  0.118830   0.104717\n",
       "4    292.0    -1.0    -1.0  0.195612   0.220821  0.043876   0.055510\n",
       "6    292.0    -1.0    -1.0  0.195612   0.220821  0.043876   0.055510\n",
       "13  1033.0    -1.0    -1.0  0.153565   0.171614  0.042048   0.057747\n",
       "18  1033.0    -1.0    -1.0  0.153565   0.171614  0.042048   0.057747\n",
       "17  1033.0    -1.0    -1.0  0.153565   0.171614  0.042048   0.057747\n",
       "16  1033.0    -1.0    -1.0  0.153565   0.171614  0.042048   0.057747\n",
       "15  1033.0    -1.0    -1.0  0.153565   0.171614  0.042048   0.057747\n",
       "14  1033.0    -1.0    -1.0  0.153565   0.171614  0.042048   0.057747\n",
       "10  1033.0    -1.0    -1.0  0.153565   0.171614  0.042048   0.057747\n",
       "12  1033.0    -1.0    -1.0  0.153565   0.171614  0.042048   0.057747\n",
       "11  1033.0    -1.0    -1.0  0.153565   0.171614  0.042048   0.057747\n",
       "9   1033.0    -1.0    -1.0  0.153565   0.171614  0.042048   0.057747\n",
       "8   1033.0    -1.0    -1.0  0.153565   0.171614  0.042048   0.057747\n",
       "7   1033.0    -1.0    -1.0  0.153565   0.171614  0.042048   0.057747\n",
       "19  1033.0    -1.0    -1.0  0.153565   0.171614  0.042048   0.057747\n",
       "5    347.0    -1.0    -1.0  0.153565   0.171614  0.027422   0.018300"
      ]
     },
     "execution_count": 120,
     "metadata": {},
     "output_type": "execute_result"
    }
   ],
   "source": [
    "hg.heuristic_stats().sort_values('Val Cov', ascending=False)"
   ]
  },
  {
   "cell_type": "code",
   "execution_count": 122,
   "metadata": {},
   "outputs": [
    {
     "name": "stdout",
     "output_type": "stream",
     "text": [
      "315.0 who\n",
      "244.0 what is\n",
      "1022.0 how\n",
      "1032.0 how long\n",
      "292.0 where\n",
      "347.0 why\n",
      "292.0 where\n",
      "1033.0 how many\n",
      "1033.0 how many\n",
      "1033.0 how many\n",
      "1033.0 how many\n",
      "1033.0 how many\n",
      "1033.0 how many\n",
      "1033.0 how many\n",
      "1033.0 how many\n",
      "1033.0 how many\n",
      "1033.0 how many\n",
      "1033.0 how many\n",
      "1033.0 how many\n",
      "1033.0 how many\n"
     ]
    }
   ],
   "source": [
    "# for i,j in zip(hg.heuristic_stats().iloc[0:len(idxs)]['Feat 1'], hg.heuristic_stats().iloc[0:len(idxs)]['Feat 2']):#, hg.heuristic_stats()['Feat 3']):\n",
    "#     print(x[int(i)], x[int(j)])#, x[int(k)])\n",
    "for i in hg.heuristic_stats().iloc[:len(idxs)]['Feat 1']:\n",
    "    print(i, (x[int(i)]))\n",
    "    \n"
   ]
  },
  {
   "cell_type": "code",
   "execution_count": 116,
   "metadata": {},
   "outputs": [
    {
     "data": {
      "text/plain": [
       "{244.0, 292.0, 315.0, 347.0, 1022.0, 1032.0, 1033.0}"
      ]
     },
     "execution_count": 116,
     "metadata": {},
     "output_type": "execute_result"
    }
   ],
   "source": [
    "feats"
   ]
  },
  {
   "cell_type": "code",
   "execution_count": 74,
   "metadata": {},
   "outputs": [],
   "source": [
    "hffeats = set(hg.heuristic_stats().sort_values('Val Cov', ascending=False)['Feat 1'])"
   ]
  },
  {
   "cell_type": "code",
   "execution_count": 109,
   "metadata": {},
   "outputs": [
    {
     "data": {
      "text/plain": [
       "[Text(167.4, 163.07999999999998, 'X[315] <= 0.5\\ngini = 0.791\\nsamples = 500\\nvalue = [76, 63, 124, 115, 118, 4]'),\n",
       " Text(83.7, 54.360000000000014, 'gini = 0.788\\nsamples = 435\\nvalue = [75, 63, 62, 114, 117, 4]'),\n",
       " Text(251.10000000000002, 54.360000000000014, 'gini = 0.089\\nsamples = 65\\nvalue = [1, 0, 62, 1, 1, 0]')]"
      ]
     },
     "execution_count": 109,
     "metadata": {},
     "output_type": "execute_result"
    },
    {
     "data": {
      "image/png": "[encoded data removed]",
      "text/plain": [
       "<Figure size 432x288 with 1 Axes>"
      ]
     },
     "metadata": {
      "needs_background": "light"
     },
     "output_type": "display_data"
    }
   ],
   "source": [
    "feats = set(hg.heuristic_stats().sort_values('Val Cov', ascending=False)['Feat 1'])\n",
    "feats2 = set(hg.heuristic_stats().sort_values('Val Cov', ascending=False)['Feat 2'])\n",
    "\n",
    "from sklearn import tree\n",
    "clf = hg.hf[2].fit(test_primitive_matrix, test_ground)\n",
    "tree.plot_tree(clf)"
   ]
  },
  {
   "cell_type": "code",
   "execution_count": 110,
   "metadata": {},
   "outputs": [
    {
     "name": "stdout",
     "output_type": "stream",
     "text": [
      "where\n",
      "how long\n",
      "how many\n",
      "why\n",
      "what is\n",
      "who\n",
      "how\n",
      "-------------\n",
      "to ?\n"
     ]
    }
   ],
   "source": [
    "for i in feats:\n",
    "    print(x[int(i)])\n",
    "print('-------------')\n",
    "\n",
    "for j in feats2:\n",
    "    print(x[int(j)])"
   ]
  },
  {
   "cell_type": "code",
   "execution_count": 56,
   "metadata": {},
   "outputs": [
    {
     "name": "stdout",
     "output_type": "stream",
     "text": [
      "Program Synthesis Train Accuracy:  0.4670714619336759\n",
      "Program Synthesis Train Coverage:  0.48970722781335774\n",
      "Program Synthesis Validation Accuracy:  0.4843462246777164\n"
     ]
    },
    {
     "data": {
      "image/png": "[encoded data removed]",
      "text/plain": [
       "<Figure size 432x288 with 1 Axes>"
      ]
     },
     "metadata": {
      "needs_background": "light"
     },
     "output_type": "display_data"
    }
   ],
   "source": [
    "plt.hist(training_marginals[-1], bins=10, range=(0.0,1.0)); \n",
    "plt.title('Final Distribution');\n",
    "\n",
    "print (\"Program Synthesis Train Accuracy: \", training_accuracy[-1])\n",
    "print (\"Program Synthesis Train Coverage: \", training_coverage[-1])\n",
    "print (\"Program Synthesis Validation Accuracy: \", validation_accuracy[-1])\n"
   ]
  },
  {
   "cell_type": "markdown",
   "metadata": {},
   "source": [
    "### Save Training Set Labels \n",
    "We save the training set labels Reef generates that we use in the next notebook to train a simple LSTM model."
   ]
  },
  {
   "cell_type": "code",
   "execution_count": null,
   "metadata": {},
   "outputs": [],
   "source": [
    "filepath = './data/' + dataset\n",
    "np.save(filepath+'_reef.npy', training_marginals[-1])"
   ]
  },
  {
   "cell_type": "code",
   "execution_count": null,
   "metadata": {},
   "outputs": [],
   "source": []
  }
 ],
 "metadata": {
  "kernelspec": {
   "display_name": "Python 3",
   "language": "python",
   "name": "python3"
  },
  "language_info": {
   "codemirror_mode": {
    "name": "ipython",
    "version": 3
   },
   "file_extension": ".py",
   "mimetype": "text/x-python",
   "name": "python",
   "nbconvert_exporter": "python",
   "pygments_lexer": "ipython3",
   "version": "3.6.8"
  }
 },
 "nbformat": 4,
 "nbformat_minor": 2
}
